{
 "cells": [
  {
   "cell_type": "markdown",
   "metadata": {},
   "source": [
    "# Visualization: Trading Session"
   ]
  },
  {
   "cell_type": "code",
   "execution_count": 1,
   "metadata": {},
   "outputs": [],
   "source": [
    "import pandas as pd\n",
    "import numpy as np\n",
    "\n",
    "import altair as alt\n",
    "import seaborn as sns"
   ]
  },
  {
   "cell_type": "markdown",
   "metadata": {},
   "source": [
    "### 1. Define parameters and Load model"
   ]
  },
  {
   "cell_type": "code",
   "execution_count": 2,
   "metadata": {},
   "outputs": [
    {
     "name": "stderr",
     "output_type": "stream",
     "text": [
      "Using TensorFlow backend.\n"
     ]
    }
   ],
   "source": [
    "from trading_bot.agent import Agent\n",
    "\n",
    "model_name = 'dqn_EU_50'\n",
    "test_stock = 'data/EUR_USD_TEST.csv'\n",
    "window_size = 10\n",
    "debug = True\n",
    "\n",
    "agent = Agent(window_size, pretrained=True, model_name=model_name)"
   ]
  },
  {
   "cell_type": "markdown",
   "metadata": {},
   "source": [
    "### 2. Load test data"
   ]
  },
  {
   "cell_type": "code",
   "execution_count": 3,
   "metadata": {},
   "outputs": [
    {
     "data": {
      "text/html": [
       "<div>\n",
       "<style scoped>\n",
       "    .dataframe tbody tr th:only-of-type {\n",
       "        vertical-align: middle;\n",
       "    }\n",
       "\n",
       "    .dataframe tbody tr th {\n",
       "        vertical-align: top;\n",
       "    }\n",
       "\n",
       "    .dataframe thead th {\n",
       "        text-align: right;\n",
       "    }\n",
       "</style>\n",
       "<table border=\"1\" class=\"dataframe\">\n",
       "  <thead>\n",
       "    <tr style=\"text-align: right;\">\n",
       "      <th></th>\n",
       "      <th>Date</th>\n",
       "      <th>actual</th>\n",
       "    </tr>\n",
       "  </thead>\n",
       "  <tbody>\n",
       "    <tr>\n",
       "      <th>0</th>\n",
       "      <td>2020-01-01</td>\n",
       "      <td>1.1212</td>\n",
       "    </tr>\n",
       "    <tr>\n",
       "      <th>1</th>\n",
       "      <td>2020-01-02</td>\n",
       "      <td>1.1172</td>\n",
       "    </tr>\n",
       "    <tr>\n",
       "      <th>2</th>\n",
       "      <td>2020-01-03</td>\n",
       "      <td>1.1160</td>\n",
       "    </tr>\n",
       "    <tr>\n",
       "      <th>3</th>\n",
       "      <td>2020-01-06</td>\n",
       "      <td>1.1195</td>\n",
       "    </tr>\n",
       "    <tr>\n",
       "      <th>4</th>\n",
       "      <td>2020-01-07</td>\n",
       "      <td>1.1153</td>\n",
       "    </tr>\n",
       "  </tbody>\n",
       "</table>\n",
       "</div>"
      ],
      "text/plain": [
       "        Date  actual\n",
       "0 2020-01-01  1.1212\n",
       "1 2020-01-02  1.1172\n",
       "2 2020-01-03  1.1160\n",
       "3 2020-01-06  1.1195\n",
       "4 2020-01-07  1.1153"
      ]
     },
     "execution_count": 3,
     "metadata": {},
     "output_type": "execute_result"
    }
   ],
   "source": [
    "# read csv into dataframe\n",
    "df = pd.read_csv(test_stock)\n",
    "# filter out the desired features\n",
    "df = df[['Date', 'Adj Close']]\n",
    "# rename feature column names\n",
    "df = df.rename(columns={'Adj Close': 'actual'})\n",
    "# convert dates from object to DateTime type\n",
    "dates = df['Date']\n",
    "dates = pd.to_datetime(dates, infer_datetime_format=True)\n",
    "df['Date'] = dates\n",
    "\n",
    "df.head()"
   ]
  },
  {
   "cell_type": "markdown",
   "metadata": {},
   "source": [
    "### 3. Running Eval"
   ]
  },
  {
   "cell_type": "code",
   "execution_count": 8,
   "metadata": {},
   "outputs": [
    {
     "name": "stderr",
     "output_type": "stream",
     "text": [
      "2020-03-28 13:02:09 DESKTOP-UBSIEG2 root[24620] DEBUG switching to TensorFlow for CPU\n",
      "2020-03-28 13:02:09 DESKTOP-UBSIEG2 root[24620] DEBUG Buy at: $1.11\n",
      "2020-03-28 13:02:09 DESKTOP-UBSIEG2 root[24620] DEBUG Buy at: $1.11\n",
      "2020-03-28 13:02:09 DESKTOP-UBSIEG2 root[24620] DEBUG Buy at: $1.11\n",
      "2020-03-28 13:02:09 DESKTOP-UBSIEG2 root[24620] DEBUG Buy at: $1.12\n",
      "2020-03-28 13:02:09 DESKTOP-UBSIEG2 root[24620] DEBUG Buy at: $1.11\n",
      "2020-03-28 13:02:09 DESKTOP-UBSIEG2 root[24620] DEBUG Buy at: $1.11\n",
      "2020-03-28 13:02:09 DESKTOP-UBSIEG2 root[24620] DEBUG Buy at: $1.11\n",
      "2020-03-28 13:02:09 DESKTOP-UBSIEG2 root[24620] DEBUG Buy at: $1.11\n",
      "2020-03-28 13:02:09 DESKTOP-UBSIEG2 root[24620] DEBUG Buy at: $1.11\n",
      "2020-03-28 13:02:09 DESKTOP-UBSIEG2 root[24620] DEBUG Buy at: $1.10\n",
      "2020-03-28 13:02:09 DESKTOP-UBSIEG2 root[24620] DEBUG Buy at: $1.10\n",
      "2020-03-28 13:02:09 DESKTOP-UBSIEG2 root[24620] DEBUG Buy at: $1.10\n",
      "2020-03-28 13:02:09 DESKTOP-UBSIEG2 root[24620] DEBUG Buy at: $1.10\n",
      "2020-03-28 13:02:09 DESKTOP-UBSIEG2 root[24620] DEBUG Buy at: $1.11\n",
      "2020-03-28 13:02:09 DESKTOP-UBSIEG2 root[24620] DEBUG Buy at: $1.11\n",
      "2020-03-28 13:02:09 DESKTOP-UBSIEG2 root[24620] DEBUG Buy at: $1.10\n",
      "2020-03-28 13:02:09 DESKTOP-UBSIEG2 root[24620] DEBUG Buy at: $1.10\n",
      "2020-03-28 13:02:09 DESKTOP-UBSIEG2 root[24620] DEBUG Buy at: $1.10\n",
      "2020-03-28 13:02:09 DESKTOP-UBSIEG2 root[24620] DEBUG Buy at: $1.09\n",
      "2020-03-28 13:02:09 DESKTOP-UBSIEG2 root[24620] DEBUG Buy at: $1.09\n",
      "2020-03-28 13:02:09 DESKTOP-UBSIEG2 root[24620] DEBUG Buy at: $1.09\n",
      "2020-03-28 13:02:09 DESKTOP-UBSIEG2 root[24620] DEBUG Buy at: $1.09\n",
      "2020-03-28 13:02:09 DESKTOP-UBSIEG2 root[24620] DEBUG Buy at: $1.08\n",
      "2020-03-28 13:02:09 DESKTOP-UBSIEG2 root[24620] DEBUG Buy at: $1.08\n",
      "2020-03-28 13:02:09 DESKTOP-UBSIEG2 root[24620] DEBUG Buy at: $1.08\n",
      "2020-03-28 13:02:09 DESKTOP-UBSIEG2 root[24620] DEBUG Buy at: $1.09\n",
      "2020-03-28 13:02:09 DESKTOP-UBSIEG2 root[24620] DEBUG Sell at: $1.09 | Position: -$0.0241\n",
      "2020-03-28 13:02:09 DESKTOP-UBSIEG2 root[24620] DEBUG Buy at: $1.09\n",
      "2020-03-28 13:02:09 DESKTOP-UBSIEG2 root[24620] DEBUG Buy at: $1.10\n",
      "2020-03-28 13:02:09 DESKTOP-UBSIEG2 root[24620] DEBUG Sell at: $1.10 | Position: -$0.0109\n",
      "2020-03-28 13:02:09 DESKTOP-UBSIEG2 root[24620] DEBUG Sell at: $1.12 | Position: +$0.0045\n",
      "2020-03-28 13:02:09 DESKTOP-UBSIEG2 root[24620] DEBUG Sell at: $1.11 | Position: -$0.0015\n",
      "2020-03-28 13:02:09 DESKTOP-UBSIEG2 root[24620] DEBUG Sell at: $1.12 | Position: +$0.0104\n",
      "2020-03-28 13:02:09 DESKTOP-UBSIEG2 root[24620] DEBUG Sell at: $1.13 | Position: +$0.0196\n",
      "2020-03-28 13:02:09 DESKTOP-UBSIEG2 root[24620] INFO dqn_EU_50: -$0.0020\n",
      "\n"
     ]
    }
   ],
   "source": [
    "import logging\n",
    "import coloredlogs\n",
    "\n",
    "from trading_bot.utils import show_eval_result, switch_k_backend_device, get_stock_data\n",
    "from trading_bot.methods import evaluate_model\n",
    "\n",
    "coloredlogs.install(level='DEBUG')\n",
    "switch_k_backend_device()\n",
    "\n",
    "test_data = get_stock_data(test_stock)\n",
    "initial_offset = test_data[1] - test_data[0]\n",
    "\n",
    "test_result, history = evaluate_model(agent, test_data, window_size, debug)\n",
    "show_eval_result(model_name, test_result, initial_offset)"
   ]
  },
  {
   "cell_type": "markdown",
   "metadata": {},
   "source": [
    "### 4. Visualize the Double DQ Learning"
   ]
  },
  {
   "cell_type": "code",
   "execution_count": 21,
   "metadata": {},
   "outputs": [],
   "source": [
    "def visualize(df, history, title=\"trading session\"):\n",
    "    # add history to dataframe\n",
    "    position = [history[0][0]] + [x[0] for x in history]\n",
    "    actions = ['HOLD'] + [x[1] for x in history]\n",
    "    df['position'] = position\n",
    "    df['action'] = actions\n",
    "    df['size'] = \"Buy/Sell\"\n",
    "    \n",
    "    # specify y-axis scale for stock prices\n",
    "    scale = alt.Scale(domain=(min(min(df['actual']), min(df['position'])), max(max(df['actual']), max(df['position']))), clamp=True)\n",
    "    \n",
    "    # plot a line chart for stock positions\n",
    "    actual = alt.Chart(df).mark_line(\n",
    "        color='green',\n",
    "        opacity=0.5\n",
    "    ).encode(\n",
    "        x='Date:T',\n",
    "        y=alt.Y('position', axis=alt.Axis(format='$.2f', title='Price'), scale=scale)\n",
    "    ).interactive(\n",
    "        bind_y=False\n",
    "    )\n",
    "    \n",
    "    # plot the BUY and SELL actions as points\n",
    "    points = alt.Chart(df).transform_filter(\n",
    "        alt.datum.action != 'HOLD'\n",
    "    ).mark_point(\n",
    "        filled=True\n",
    "    ).encode(\n",
    "        x=alt.X('Date:T', axis=alt.Axis(title='Date')),\n",
    "        y=alt.Y('position', axis=alt.Axis(format='$.2f', title='Price'), scale=scale),\n",
    "        color='action',size='size'\n",
    "    ).interactive(bind_y=False)\n",
    "\n",
    "    # merge the two charts\n",
    "    chart = alt.layer(actual, points, title=title).properties(height=300, width=800)\n",
    "    \n",
    "    return chart"
   ]
  },
  {
   "cell_type": "code",
   "execution_count": 22,
   "metadata": {},
   "outputs": [
    {
     "data": {
      "text/html": [
       "\n",
       "<div id=\"altair-viz-9156749c67b84feaba4539c5a6c00cdc\"></div>\n",
       "<script type=\"text/javascript\">\n",
       "  (function(spec, embedOpt){\n",
       "    const outputDiv = document.getElementById(\"altair-viz-9156749c67b84feaba4539c5a6c00cdc\");\n",
       "    const paths = {\n",
       "      \"vega\": \"https://cdn.jsdelivr.net/npm//vega@5?noext\",\n",
       "      \"vega-lib\": \"https://cdn.jsdelivr.net/npm//vega-lib?noext\",\n",
       "      \"vega-lite\": \"https://cdn.jsdelivr.net/npm//vega-lite@4.0.2?noext\",\n",
       "      \"vega-embed\": \"https://cdn.jsdelivr.net/npm//vega-embed@6?noext\",\n",
       "    };\n",
       "\n",
       "    function loadScript(lib) {\n",
       "      return new Promise(function(resolve, reject) {\n",
       "        var s = document.createElement('script');\n",
       "        s.src = paths[lib];\n",
       "        s.async = true;\n",
       "        s.onload = () => resolve(paths[lib]);\n",
       "        s.onerror = () => reject(`Error loading script: ${paths[lib]}`);\n",
       "        document.getElementsByTagName(\"head\")[0].appendChild(s);\n",
       "      });\n",
       "    }\n",
       "\n",
       "    function showError(err) {\n",
       "      outputDiv.innerHTML = `<div class=\"error\" style=\"color:red;\">${err}</div>`;\n",
       "      throw err;\n",
       "    }\n",
       "\n",
       "    function displayChart(vegaEmbed) {\n",
       "      vegaEmbed(outputDiv, spec, embedOpt)\n",
       "        .catch(err => showError(`Javascript Error: ${err.message}<br>This usually means there's a typo in your chart specification. See the javascript console for the full traceback.`));\n",
       "    }\n",
       "\n",
       "    if(typeof define === \"function\" && define.amd) {\n",
       "      requirejs.config({paths});\n",
       "      require([\"vega-embed\"], displayChart, err => showError(`Error loading script: ${err.message}`));\n",
       "    } else if (typeof vegaEmbed === \"function\") {\n",
       "      displayChart(vegaEmbed);\n",
       "    } else {\n",
       "      loadScript(\"vega\")\n",
       "        .then(() => loadScript(\"vega-lite\"))\n",
       "        .then(() => loadScript(\"vega-embed\"))\n",
       "        .catch(showError)\n",
       "        .then(() => displayChart(vegaEmbed));\n",
       "    }\n",
       "  })({\"config\": {\"view\": {\"continuousWidth\": 400, \"continuousHeight\": 300}}, \"layer\": [{\"mark\": {\"type\": \"line\", \"color\": \"green\", \"opacity\": 0.5}, \"encoding\": {\"x\": {\"type\": \"temporal\", \"field\": \"Date\"}, \"y\": {\"type\": \"quantitative\", \"axis\": {\"format\": \"$.2f\", \"title\": \"Price\"}, \"field\": \"position\", \"scale\": {\"clamp\": true, \"domain\": [1.0785, 1.1449]}}}, \"selection\": {\"selector017\": {\"type\": \"interval\", \"bind\": \"scales\", \"encodings\": [\"x\"]}}}, {\"mark\": {\"type\": \"point\", \"filled\": true}, \"encoding\": {\"color\": {\"type\": \"nominal\", \"field\": \"action\"}, \"size\": {\"type\": \"nominal\", \"field\": \"size\"}, \"x\": {\"type\": \"temporal\", \"axis\": {\"title\": \"Date\"}, \"field\": \"Date\"}, \"y\": {\"type\": \"quantitative\", \"axis\": {\"format\": \"$.2f\", \"title\": \"Price\"}, \"field\": \"position\", \"scale\": {\"clamp\": true, \"domain\": [1.0785, 1.1449]}}}, \"selection\": {\"selector018\": {\"type\": \"interval\", \"bind\": \"scales\", \"encodings\": [\"x\"]}}, \"transform\": [{\"filter\": \"(datum.action !== 'HOLD')\"}]}], \"data\": {\"name\": \"data-4a8207c02e04dae9dcc4fd4cae49c7d6\"}, \"height\": 300, \"title\": \"data/EUR_USD_TEST.csv\", \"width\": 800, \"$schema\": \"https://vega.github.io/schema/vega-lite/v4.0.2.json\", \"datasets\": {\"data-4a8207c02e04dae9dcc4fd4cae49c7d6\": [{\"Date\": \"2020-01-01T00:00:00\", \"actual\": 1.1212, \"position\": 1.1212, \"action\": \"HOLD\", \"size\": \"Buy/Sell\"}, {\"Date\": \"2020-01-02T00:00:00\", \"actual\": 1.1172, \"position\": 1.1212, \"action\": \"HOLD\", \"size\": \"Buy/Sell\"}, {\"Date\": \"2020-01-03T00:00:00\", \"actual\": 1.1159999999999999, \"position\": 1.1172, \"action\": \"HOLD\", \"size\": \"Buy/Sell\"}, {\"Date\": \"2020-01-06T00:00:00\", \"actual\": 1.1195, \"position\": 1.1159999999999999, \"action\": \"HOLD\", \"size\": \"Buy/Sell\"}, {\"Date\": \"2020-01-07T00:00:00\", \"actual\": 1.1153, \"position\": 1.1195, \"action\": \"HOLD\", \"size\": \"Buy/Sell\"}, {\"Date\": \"2020-01-08T00:00:00\", \"actual\": 1.1105, \"position\": 1.1153, \"action\": \"HOLD\", \"size\": \"Buy/Sell\"}, {\"Date\": \"2020-01-09T00:00:00\", \"actual\": 1.1106, \"position\": 1.1105, \"action\": \"HOLD\", \"size\": \"Buy/Sell\"}, {\"Date\": \"2020-01-10T00:00:00\", \"actual\": 1.1122, \"position\": 1.1106, \"action\": \"HOLD\", \"size\": \"Buy/Sell\"}, {\"Date\": \"2020-01-13T00:00:00\", \"actual\": 1.1135, \"position\": 1.1122, \"action\": \"BUY\", \"size\": \"Buy/Sell\"}, {\"Date\": \"2020-01-14T00:00:00\", \"actual\": 1.1128, \"position\": 1.1135, \"action\": \"BUY\", \"size\": \"Buy/Sell\"}, {\"Date\": \"2020-01-15T00:00:00\", \"actual\": 1.1151, \"position\": 1.1128, \"action\": \"BUY\", \"size\": \"Buy/Sell\"}, {\"Date\": \"2020-01-16T00:00:00\", \"actual\": 1.1137, \"position\": 1.1151, \"action\": \"BUY\", \"size\": \"Buy/Sell\"}, {\"Date\": \"2020-01-17T00:00:00\", \"actual\": 1.109, \"position\": 1.1137, \"action\": \"BUY\", \"size\": \"Buy/Sell\"}, {\"Date\": \"2020-01-20T00:00:00\", \"actual\": 1.1095, \"position\": 1.109, \"action\": \"BUY\", \"size\": \"Buy/Sell\"}, {\"Date\": \"2020-01-21T00:00:00\", \"actual\": 1.1084, \"position\": 1.1095, \"action\": \"BUY\", \"size\": \"Buy/Sell\"}, {\"Date\": \"2020-01-22T00:00:00\", \"actual\": 1.1093, \"position\": 1.1084, \"action\": \"HOLD\", \"size\": \"Buy/Sell\"}, {\"Date\": \"2020-01-23T00:00:00\", \"actual\": 1.1054, \"position\": 1.1093, \"action\": \"BUY\", \"size\": \"Buy/Sell\"}, {\"Date\": \"2020-01-24T00:00:00\", \"actual\": 1.1025, \"position\": 1.1054, \"action\": \"BUY\", \"size\": \"Buy/Sell\"}, {\"Date\": \"2020-01-27T00:00:00\", \"actual\": 1.1018, \"position\": 1.1025, \"action\": \"BUY\", \"size\": \"Buy/Sell\"}, {\"Date\": \"2020-01-28T00:00:00\", \"actual\": 1.1022, \"position\": 1.1018, \"action\": \"BUY\", \"size\": \"Buy/Sell\"}, {\"Date\": \"2020-01-29T00:00:00\", \"actual\": 1.1011, \"position\": 1.1022, \"action\": \"BUY\", \"size\": \"Buy/Sell\"}, {\"Date\": \"2020-01-30T00:00:00\", \"actual\": 1.1032, \"position\": 1.1011, \"action\": \"BUY\", \"size\": \"Buy/Sell\"}, {\"Date\": \"2020-01-31T00:00:00\", \"actual\": 1.1094, \"position\": 1.1032, \"action\": \"HOLD\", \"size\": \"Buy/Sell\"}, {\"Date\": \"2020-02-03T00:00:00\", \"actual\": 1.1059999999999999, \"position\": 1.1094, \"action\": \"BUY\", \"size\": \"Buy/Sell\"}, {\"Date\": \"2020-02-04T00:00:00\", \"actual\": 1.1044, \"position\": 1.1059999999999999, \"action\": \"BUY\", \"size\": \"Buy/Sell\"}, {\"Date\": \"2020-02-05T00:00:00\", \"actual\": 1.0999, \"position\": 1.1044, \"action\": \"BUY\", \"size\": \"Buy/Sell\"}, {\"Date\": \"2020-02-06T00:00:00\", \"actual\": 1.0979999999999999, \"position\": 1.0999, \"action\": \"BUY\", \"size\": \"Buy/Sell\"}, {\"Date\": \"2020-02-07T00:00:00\", \"actual\": 1.0945, \"position\": 1.0979999999999999, \"action\": \"BUY\", \"size\": \"Buy/Sell\"}, {\"Date\": \"2020-02-10T00:00:00\", \"actual\": 1.0911, \"position\": 1.0945, \"action\": \"BUY\", \"size\": \"Buy/Sell\"}, {\"Date\": \"2020-02-11T00:00:00\", \"actual\": 1.0916, \"position\": 1.0911, \"action\": \"BUY\", \"size\": \"Buy/Sell\"}, {\"Date\": \"2020-02-12T00:00:00\", \"actual\": 1.0873, \"position\": 1.0916, \"action\": \"BUY\", \"size\": \"Buy/Sell\"}, {\"Date\": \"2020-02-13T00:00:00\", \"actual\": 1.0841, \"position\": 1.0873, \"action\": \"BUY\", \"size\": \"Buy/Sell\"}, {\"Date\": \"2020-02-14T00:00:00\", \"actual\": 1.0832, \"position\": 1.0841, \"action\": \"BUY\", \"size\": \"Buy/Sell\"}, {\"Date\": \"2020-02-17T00:00:00\", \"actual\": 1.0836, \"position\": 1.0832, \"action\": \"HOLD\", \"size\": \"Buy/Sell\"}, {\"Date\": \"2020-02-18T00:00:00\", \"actual\": 1.0792, \"position\": 1.0836, \"action\": \"BUY\", \"size\": \"Buy/Sell\"}, {\"Date\": \"2020-02-19T00:00:00\", \"actual\": 1.0806, \"position\": 1.0792, \"action\": \"BUY\", \"size\": \"Buy/Sell\"}, {\"Date\": \"2020-02-20T00:00:00\", \"actual\": 1.0785, \"position\": 1.0806, \"action\": \"HOLD\", \"size\": \"Buy/Sell\"}, {\"Date\": \"2020-02-21T00:00:00\", \"actual\": 1.0845, \"position\": 1.0785, \"action\": \"HOLD\", \"size\": \"Buy/Sell\"}, {\"Date\": \"2020-02-24T00:00:00\", \"actual\": 1.0854, \"position\": 1.0845, \"action\": \"HOLD\", \"size\": \"Buy/Sell\"}, {\"Date\": \"2020-02-25T00:00:00\", \"actual\": 1.0881, \"position\": 1.0854, \"action\": \"BUY\", \"size\": \"Buy/Sell\"}, {\"Date\": \"2020-02-26T00:00:00\", \"actual\": 1.0881, \"position\": 1.0881, \"action\": \"SELL\", \"size\": \"Buy/Sell\"}, {\"Date\": \"2020-02-27T00:00:00\", \"actual\": 1.1, \"position\": 1.0881, \"action\": \"BUY\", \"size\": \"Buy/Sell\"}, {\"Date\": \"2020-02-28T00:00:00\", \"actual\": 1.1026, \"position\": 1.1, \"action\": \"BUY\", \"size\": \"Buy/Sell\"}, {\"Date\": \"2020-03-02T00:00:00\", \"actual\": 1.1134, \"position\": 1.1026, \"action\": \"SELL\", \"size\": \"Buy/Sell\"}, {\"Date\": \"2020-03-03T00:00:00\", \"actual\": 1.1173, \"position\": 1.1134, \"action\": \"HOLD\", \"size\": \"Buy/Sell\"}, {\"Date\": \"2020-03-04T00:00:00\", \"actual\": 1.1136, \"position\": 1.1173, \"action\": \"SELL\", \"size\": \"Buy/Sell\"}, {\"Date\": \"2020-03-05T00:00:00\", \"actual\": 1.1241, \"position\": 1.1136, \"action\": \"SELL\", \"size\": \"Buy/Sell\"}, {\"Date\": \"2020-03-06T00:00:00\", \"actual\": 1.1286, \"position\": 1.1241, \"action\": \"SELL\", \"size\": \"Buy/Sell\"}, {\"Date\": \"2020-03-09T00:00:00\", \"actual\": 1.1449, \"position\": 1.1286, \"action\": \"SELL\", \"size\": \"Buy/Sell\"}, {\"Date\": \"2020-03-10T00:00:00\", \"actual\": 1.128, \"position\": 1.1449, \"action\": \"HOLD\", \"size\": \"Buy/Sell\"}, {\"Date\": \"2020-03-11T00:00:00\", \"actual\": 1.1269, \"position\": 1.128, \"action\": \"HOLD\", \"size\": \"Buy/Sell\"}, {\"Date\": \"2020-03-12T00:00:00\", \"actual\": 1.1183, \"position\": 1.1269, \"action\": \"HOLD\", \"size\": \"Buy/Sell\"}, {\"Date\": \"2020-03-13T00:00:00\", \"actual\": 1.1206, \"position\": 1.1183, \"action\": \"HOLD\", \"size\": \"Buy/Sell\"}]}}, {\"mode\": \"vega-lite\"});\n",
       "</script>"
      ],
      "text/plain": [
       "alt.LayerChart(...)"
      ]
     },
     "execution_count": 22,
     "metadata": {},
     "output_type": "execute_result"
    }
   ],
   "source": [
    "chart = visualize(df, history, title=test_stock)\n",
    "chart"
   ]
  },
  {
   "cell_type": "code",
   "execution_count": null,
   "metadata": {},
   "outputs": [],
   "source": []
  }
 ],
 "metadata": {
  "kernelspec": {
   "display_name": "Python 3",
   "language": "python",
   "name": "python3"
  },
  "language_info": {
   "codemirror_mode": {
    "name": "ipython",
    "version": 3
   },
   "file_extension": ".py",
   "mimetype": "text/x-python",
   "name": "python",
   "nbconvert_exporter": "python",
   "pygments_lexer": "ipython3",
   "version": "3.6.10"
  }
 },
 "nbformat": 4,
 "nbformat_minor": 4
}
