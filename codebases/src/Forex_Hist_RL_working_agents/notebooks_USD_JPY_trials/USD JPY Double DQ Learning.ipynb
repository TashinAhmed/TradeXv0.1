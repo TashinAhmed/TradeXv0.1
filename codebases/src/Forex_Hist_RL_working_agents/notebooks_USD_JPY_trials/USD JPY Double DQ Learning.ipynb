{
 "cells": [
  {
   "cell_type": "markdown",
   "metadata": {},
   "source": [
    "# Visualization: Trading Session"
   ]
  },
  {
   "cell_type": "code",
   "execution_count": 14,
   "metadata": {},
   "outputs": [],
   "source": [
    "import pandas as pd\n",
    "import numpy as np\n",
    "\n",
    "import altair as alt\n",
    "import seaborn as sns"
   ]
  },
  {
   "cell_type": "markdown",
   "metadata": {},
   "source": [
    "### 1. Define parameters and Load model"
   ]
  },
  {
   "cell_type": "code",
   "execution_count": 15,
   "metadata": {},
   "outputs": [],
   "source": [
    "from trading_bot.agent import Agent\n",
    "\n",
    "model_name = 'ddqn_UJ_50'\n",
    "test_stock = 'data/USD_JPY_TEST.csv'\n",
    "window_size = 10\n",
    "debug = True\n",
    "\n",
    "agent = Agent(window_size, pretrained=True, model_name=model_name)"
   ]
  },
  {
   "cell_type": "markdown",
   "metadata": {},
   "source": [
    "### 2. Load test data"
   ]
  },
  {
   "cell_type": "code",
   "execution_count": 16,
   "metadata": {},
   "outputs": [
    {
     "data": {
      "text/html": [
       "<div>\n",
       "<style scoped>\n",
       "    .dataframe tbody tr th:only-of-type {\n",
       "        vertical-align: middle;\n",
       "    }\n",
       "\n",
       "    .dataframe tbody tr th {\n",
       "        vertical-align: top;\n",
       "    }\n",
       "\n",
       "    .dataframe thead th {\n",
       "        text-align: right;\n",
       "    }\n",
       "</style>\n",
       "<table border=\"1\" class=\"dataframe\">\n",
       "  <thead>\n",
       "    <tr style=\"text-align: right;\">\n",
       "      <th></th>\n",
       "      <th>Date</th>\n",
       "      <th>actual</th>\n",
       "    </tr>\n",
       "  </thead>\n",
       "  <tbody>\n",
       "    <tr>\n",
       "      <th>0</th>\n",
       "      <td>2020-01-01</td>\n",
       "      <td>108.70</td>\n",
       "    </tr>\n",
       "    <tr>\n",
       "      <th>1</th>\n",
       "      <td>2020-01-02</td>\n",
       "      <td>108.58</td>\n",
       "    </tr>\n",
       "    <tr>\n",
       "      <th>2</th>\n",
       "      <td>2020-01-03</td>\n",
       "      <td>108.09</td>\n",
       "    </tr>\n",
       "    <tr>\n",
       "      <th>3</th>\n",
       "      <td>2020-01-06</td>\n",
       "      <td>108.38</td>\n",
       "    </tr>\n",
       "    <tr>\n",
       "      <th>4</th>\n",
       "      <td>2020-01-07</td>\n",
       "      <td>108.44</td>\n",
       "    </tr>\n",
       "  </tbody>\n",
       "</table>\n",
       "</div>"
      ],
      "text/plain": [
       "        Date  actual\n",
       "0 2020-01-01  108.70\n",
       "1 2020-01-02  108.58\n",
       "2 2020-01-03  108.09\n",
       "3 2020-01-06  108.38\n",
       "4 2020-01-07  108.44"
      ]
     },
     "execution_count": 16,
     "metadata": {},
     "output_type": "execute_result"
    }
   ],
   "source": [
    "# read csv into dataframe\n",
    "df = pd.read_csv(test_stock)\n",
    "# filter out the desired features\n",
    "df = df[['Date', 'Adj Close']]\n",
    "# rename feature column names\n",
    "df = df.rename(columns={'Adj Close': 'actual'})\n",
    "# convert dates from object to DateTime type\n",
    "dates = df['Date']\n",
    "dates = pd.to_datetime(dates, infer_datetime_format=True)\n",
    "df['Date'] = dates\n",
    "\n",
    "df.head()"
   ]
  },
  {
   "cell_type": "markdown",
   "metadata": {},
   "source": [
    "### 3. Running Eval"
   ]
  },
  {
   "cell_type": "code",
   "execution_count": 17,
   "metadata": {},
   "outputs": [
    {
     "name": "stderr",
     "output_type": "stream",
     "text": [
      "2020-03-28 16:30:15 DESKTOP-UBSIEG2 root[8160] DEBUG switching to TensorFlow for CPU\n",
      "2020-03-28 16:30:15 DESKTOP-UBSIEG2 root[8160] DEBUG Buy at: $108.70\n",
      "2020-03-28 16:30:15 DESKTOP-UBSIEG2 root[8160] DEBUG Sell at: $108.58 | Position: -$0.1200\n",
      "2020-03-28 16:30:15 DESKTOP-UBSIEG2 root[8160] DEBUG Buy at: $109.14\n",
      "2020-03-28 16:30:15 DESKTOP-UBSIEG2 root[8160] DEBUG Sell at: $109.47 | Position: +$0.3300\n",
      "2020-03-28 16:30:15 DESKTOP-UBSIEG2 root[8160] DEBUG Buy at: $109.98\n",
      "2020-03-28 16:30:15 DESKTOP-UBSIEG2 root[8160] DEBUG Buy at: $109.89\n",
      "2020-03-28 16:30:15 DESKTOP-UBSIEG2 root[8160] DEBUG Buy at: $110.16\n",
      "2020-03-28 16:30:15 DESKTOP-UBSIEG2 root[8160] DEBUG Buy at: $110.16\n",
      "2020-03-28 16:30:15 DESKTOP-UBSIEG2 root[8160] DEBUG Sell at: $109.84 | Position: -$0.1400\n",
      "2020-03-28 16:30:15 DESKTOP-UBSIEG2 root[8160] DEBUG Buy at: $109.28\n",
      "2020-03-28 16:30:15 DESKTOP-UBSIEG2 root[8160] DEBUG Buy at: $109.14\n",
      "2020-03-28 16:30:15 DESKTOP-UBSIEG2 root[8160] DEBUG Buy at: $108.69\n",
      "2020-03-28 16:30:15 DESKTOP-UBSIEG2 root[8160] DEBUG Buy at: $109.53\n",
      "2020-03-28 16:30:15 DESKTOP-UBSIEG2 root[8160] DEBUG Sell at: $110.00 | Position: +$0.1100\n",
      "2020-03-28 16:30:15 DESKTOP-UBSIEG2 root[8160] DEBUG Sell at: $109.73 | Position: -$0.4300\n",
      "2020-03-28 16:30:15 DESKTOP-UBSIEG2 root[8160] DEBUG Sell at: $109.75 | Position: -$0.4100\n",
      "2020-03-28 16:30:15 DESKTOP-UBSIEG2 root[8160] DEBUG Sell at: $109.78 | Position: +$0.5000\n",
      "2020-03-28 16:30:15 DESKTOP-UBSIEG2 root[8160] DEBUG Buy at: $110.08\n",
      "2020-03-28 16:30:15 DESKTOP-UBSIEG2 root[8160] DEBUG Sell at: $109.81 | Position: +$0.6700\n",
      "2020-03-28 16:30:15 DESKTOP-UBSIEG2 root[8160] DEBUG Buy at: $111.36\n",
      "2020-03-28 16:30:15 DESKTOP-UBSIEG2 root[8160] DEBUG Buy at: $112.12\n",
      "2020-03-28 16:30:15 DESKTOP-UBSIEG2 root[8160] DEBUG Buy at: $111.58\n",
      "2020-03-28 16:30:15 DESKTOP-UBSIEG2 root[8160] DEBUG Sell at: $109.59 | Position: +$0.9000\n",
      "2020-03-28 16:30:15 DESKTOP-UBSIEG2 root[8160] DEBUG Buy at: $108.08\n",
      "2020-03-28 16:30:15 DESKTOP-UBSIEG2 root[8160] DEBUG Buy at: $108.31\n",
      "2020-03-28 16:30:15 DESKTOP-UBSIEG2 root[8160] DEBUG Sell at: $107.53 | Position: -$2.0000\n",
      "2020-03-28 16:30:15 DESKTOP-UBSIEG2 root[8160] DEBUG Sell at: $106.17 | Position: -$3.9100\n",
      "2020-03-28 16:30:15 DESKTOP-UBSIEG2 root[8160] DEBUG Buy at: $102.36\n",
      "2020-03-28 16:30:15 DESKTOP-UBSIEG2 root[8160] INFO ddqn_UJ_50: -$4.5000\n",
      "\n"
     ]
    }
   ],
   "source": [
    "import logging\n",
    "import coloredlogs\n",
    "\n",
    "from trading_bot.utils import show_eval_result, switch_k_backend_device, get_stock_data\n",
    "from trading_bot.methods import evaluate_model\n",
    "\n",
    "coloredlogs.install(level='DEBUG')\n",
    "switch_k_backend_device()\n",
    "\n",
    "test_data = get_stock_data(test_stock)\n",
    "initial_offset = test_data[1] - test_data[0]\n",
    "\n",
    "test_result, history = evaluate_model(agent, test_data, window_size, debug)\n",
    "show_eval_result(model_name, test_result, initial_offset)"
   ]
  },
  {
   "cell_type": "markdown",
   "metadata": {},
   "source": [
    "### 4. Visualize the Double DQ Learning"
   ]
  },
  {
   "cell_type": "code",
   "execution_count": 18,
   "metadata": {},
   "outputs": [],
   "source": [
    "def visualize(df, history, title=\"trading session\"):\n",
    "    # add history to dataframe\n",
    "    position = [history[0][0]] + [x[0] for x in history]\n",
    "    actions = ['HOLD'] + [x[1] for x in history]\n",
    "    df['position'] = position\n",
    "    df['action'] = actions\n",
    "    df['size']='Buy/Sell'\n",
    "    \n",
    "    # specify y-axis scale for stock prices\n",
    "    scale = alt.Scale(domain=(min(min(df['actual']), min(df['position'])), max(max(df['actual']), max(df['position']))), clamp=True)\n",
    "    \n",
    "    # plot a line chart for stock positions\n",
    "    actual = alt.Chart(df).mark_line(\n",
    "        color='green',\n",
    "        opacity=0.5\n",
    "    ).encode(\n",
    "        x='Date:T',\n",
    "        y=alt.Y('position', axis=alt.Axis(format='$.2f', title='Price'), scale=scale)\n",
    "    ).interactive(\n",
    "        bind_y=False\n",
    "    )\n",
    "    \n",
    "    # plot the BUY and SELL actions as points\n",
    "    points = alt.Chart(df).transform_filter(\n",
    "        alt.datum.action != 'HOLD'\n",
    "    ).mark_point(\n",
    "        filled=True\n",
    "    ).encode(\n",
    "        x=alt.X('Date:T', axis=alt.Axis(title='Date')),\n",
    "        y=alt.Y('position', axis=alt.Axis(format='$.2f', title='Price'), scale=scale),\n",
    "        color='action', size='size'\n",
    "    ).interactive(bind_y=False)\n",
    "\n",
    "    # merge the two charts\n",
    "    chart = alt.layer(actual, points, title=title).properties(height=300, width=800)\n",
    "    \n",
    "    return chart"
   ]
  },
  {
   "cell_type": "code",
   "execution_count": 19,
   "metadata": {},
   "outputs": [
    {
     "data": {
      "text/html": [
       "\n",
       "<div id=\"altair-viz-6562a3c75ce74cb6875febf78452ce0e\"></div>\n",
       "<script type=\"text/javascript\">\n",
       "  (function(spec, embedOpt){\n",
       "    const outputDiv = document.getElementById(\"altair-viz-6562a3c75ce74cb6875febf78452ce0e\");\n",
       "    const paths = {\n",
       "      \"vega\": \"https://cdn.jsdelivr.net/npm//vega@5?noext\",\n",
       "      \"vega-lib\": \"https://cdn.jsdelivr.net/npm//vega-lib?noext\",\n",
       "      \"vega-lite\": \"https://cdn.jsdelivr.net/npm//vega-lite@4.0.2?noext\",\n",
       "      \"vega-embed\": \"https://cdn.jsdelivr.net/npm//vega-embed@6?noext\",\n",
       "    };\n",
       "\n",
       "    function loadScript(lib) {\n",
       "      return new Promise(function(resolve, reject) {\n",
       "        var s = document.createElement('script');\n",
       "        s.src = paths[lib];\n",
       "        s.async = true;\n",
       "        s.onload = () => resolve(paths[lib]);\n",
       "        s.onerror = () => reject(`Error loading script: ${paths[lib]}`);\n",
       "        document.getElementsByTagName(\"head\")[0].appendChild(s);\n",
       "      });\n",
       "    }\n",
       "\n",
       "    function showError(err) {\n",
       "      outputDiv.innerHTML = `<div class=\"error\" style=\"color:red;\">${err}</div>`;\n",
       "      throw err;\n",
       "    }\n",
       "\n",
       "    function displayChart(vegaEmbed) {\n",
       "      vegaEmbed(outputDiv, spec, embedOpt)\n",
       "        .catch(err => showError(`Javascript Error: ${err.message}<br>This usually means there's a typo in your chart specification. See the javascript console for the full traceback.`));\n",
       "    }\n",
       "\n",
       "    if(typeof define === \"function\" && define.amd) {\n",
       "      requirejs.config({paths});\n",
       "      require([\"vega-embed\"], displayChart, err => showError(`Error loading script: ${err.message}`));\n",
       "    } else if (typeof vegaEmbed === \"function\") {\n",
       "      displayChart(vegaEmbed);\n",
       "    } else {\n",
       "      loadScript(\"vega\")\n",
       "        .then(() => loadScript(\"vega-lite\"))\n",
       "        .then(() => loadScript(\"vega-embed\"))\n",
       "        .catch(showError)\n",
       "        .then(() => displayChart(vegaEmbed));\n",
       "    }\n",
       "  })({\"config\": {\"view\": {\"continuousWidth\": 400, \"continuousHeight\": 300}}, \"layer\": [{\"mark\": {\"type\": \"line\", \"color\": \"green\", \"opacity\": 0.5}, \"encoding\": {\"x\": {\"type\": \"temporal\", \"field\": \"Date\"}, \"y\": {\"type\": \"quantitative\", \"axis\": {\"format\": \"$.2f\", \"title\": \"Price\"}, \"field\": \"position\", \"scale\": {\"clamp\": true, \"domain\": [102.36, 112.12]}}}, \"selection\": {\"selector003\": {\"type\": \"interval\", \"bind\": \"scales\", \"encodings\": [\"x\"]}}}, {\"mark\": {\"type\": \"point\", \"filled\": true}, \"encoding\": {\"color\": {\"type\": \"nominal\", \"field\": \"action\"}, \"size\": {\"type\": \"nominal\", \"field\": \"size\"}, \"x\": {\"type\": \"temporal\", \"axis\": {\"title\": \"Date\"}, \"field\": \"Date\"}, \"y\": {\"type\": \"quantitative\", \"axis\": {\"format\": \"$.2f\", \"title\": \"Price\"}, \"field\": \"position\", \"scale\": {\"clamp\": true, \"domain\": [102.36, 112.12]}}}, \"selection\": {\"selector004\": {\"type\": \"interval\", \"bind\": \"scales\", \"encodings\": [\"x\"]}}, \"transform\": [{\"filter\": \"(datum.action !== 'HOLD')\"}]}], \"data\": {\"name\": \"data-15d3903ba71e031baed81feda9182823\"}, \"height\": 300, \"title\": \"data/USD_JPY_TEST.csv\", \"width\": 800, \"$schema\": \"https://vega.github.io/schema/vega-lite/v4.0.2.json\", \"datasets\": {\"data-15d3903ba71e031baed81feda9182823\": [{\"Date\": \"2020-01-01T00:00:00\", \"actual\": 108.7, \"position\": 108.7, \"action\": \"HOLD\", \"size\": \"Buy/Sell\"}, {\"Date\": \"2020-01-02T00:00:00\", \"actual\": 108.58, \"position\": 108.7, \"action\": \"BUY\", \"size\": \"Buy/Sell\"}, {\"Date\": \"2020-01-03T00:00:00\", \"actual\": 108.09, \"position\": 108.58, \"action\": \"SELL\", \"size\": \"Buy/Sell\"}, {\"Date\": \"2020-01-06T00:00:00\", \"actual\": 108.38, \"position\": 108.09, \"action\": \"HOLD\", \"size\": \"Buy/Sell\"}, {\"Date\": \"2020-01-07T00:00:00\", \"actual\": 108.44, \"position\": 108.38, \"action\": \"HOLD\", \"size\": \"Buy/Sell\"}, {\"Date\": \"2020-01-08T00:00:00\", \"actual\": 109.14, \"position\": 108.44, \"action\": \"HOLD\", \"size\": \"Buy/Sell\"}, {\"Date\": \"2020-01-09T00:00:00\", \"actual\": 109.52, \"position\": 109.14, \"action\": \"BUY\", \"size\": \"Buy/Sell\"}, {\"Date\": \"2020-01-10T00:00:00\", \"actual\": 109.47, \"position\": 109.52, \"action\": \"HOLD\", \"size\": \"Buy/Sell\"}, {\"Date\": \"2020-01-13T00:00:00\", \"actual\": 109.94, \"position\": 109.47, \"action\": \"SELL\", \"size\": \"Buy/Sell\"}, {\"Date\": \"2020-01-14T00:00:00\", \"actual\": 109.98, \"position\": 109.94, \"action\": \"HOLD\", \"size\": \"Buy/Sell\"}, {\"Date\": \"2020-01-15T00:00:00\", \"actual\": 109.89, \"position\": 109.98, \"action\": \"BUY\", \"size\": \"Buy/Sell\"}, {\"Date\": \"2020-01-16T00:00:00\", \"actual\": 110.16, \"position\": 109.89, \"action\": \"BUY\", \"size\": \"Buy/Sell\"}, {\"Date\": \"2020-01-17T00:00:00\", \"actual\": 110.16, \"position\": 110.16, \"action\": \"BUY\", \"size\": \"Buy/Sell\"}, {\"Date\": \"2020-01-20T00:00:00\", \"actual\": 110.19, \"position\": 110.16, \"action\": \"BUY\", \"size\": \"Buy/Sell\"}, {\"Date\": \"2020-01-21T00:00:00\", \"actual\": 109.88, \"position\": 110.19, \"action\": \"HOLD\", \"size\": \"Buy/Sell\"}, {\"Date\": \"2020-01-22T00:00:00\", \"actual\": 109.84, \"position\": 109.88, \"action\": \"HOLD\", \"size\": \"Buy/Sell\"}, {\"Date\": \"2020-01-23T00:00:00\", \"actual\": 109.49, \"position\": 109.84, \"action\": \"SELL\", \"size\": \"Buy/Sell\"}, {\"Date\": \"2020-01-24T00:00:00\", \"actual\": 109.28, \"position\": 109.49, \"action\": \"HOLD\", \"size\": \"Buy/Sell\"}, {\"Date\": \"2020-01-27T00:00:00\", \"actual\": 108.89, \"position\": 109.28, \"action\": \"BUY\", \"size\": \"Buy/Sell\"}, {\"Date\": \"2020-01-28T00:00:00\", \"actual\": 109.14, \"position\": 108.89, \"action\": \"HOLD\", \"size\": \"Buy/Sell\"}, {\"Date\": \"2020-01-29T00:00:00\", \"actual\": 109.0, \"position\": 109.14, \"action\": \"BUY\", \"size\": \"Buy/Sell\"}, {\"Date\": \"2020-01-30T00:00:00\", \"actual\": 108.97, \"position\": 109.0, \"action\": \"HOLD\", \"size\": \"Buy/Sell\"}, {\"Date\": \"2020-01-31T00:00:00\", \"actual\": 108.39, \"position\": 108.97, \"action\": \"HOLD\", \"size\": \"Buy/Sell\"}, {\"Date\": \"2020-02-03T00:00:00\", \"actual\": 108.69, \"position\": 108.39, \"action\": \"HOLD\", \"size\": \"Buy/Sell\"}, {\"Date\": \"2020-02-04T00:00:00\", \"actual\": 109.53, \"position\": 108.69, \"action\": \"BUY\", \"size\": \"Buy/Sell\"}, {\"Date\": \"2020-02-05T00:00:00\", \"actual\": 109.81, \"position\": 109.53, \"action\": \"BUY\", \"size\": \"Buy/Sell\"}, {\"Date\": \"2020-02-06T00:00:00\", \"actual\": 110.0, \"position\": 109.81, \"action\": \"HOLD\", \"size\": \"Buy/Sell\"}, {\"Date\": \"2020-02-07T00:00:00\", \"actual\": 109.73, \"position\": 110.0, \"action\": \"SELL\", \"size\": \"Buy/Sell\"}, {\"Date\": \"2020-02-10T00:00:00\", \"actual\": 109.75, \"position\": 109.73, \"action\": \"SELL\", \"size\": \"Buy/Sell\"}, {\"Date\": \"2020-02-11T00:00:00\", \"actual\": 109.78, \"position\": 109.75, \"action\": \"SELL\", \"size\": \"Buy/Sell\"}, {\"Date\": \"2020-02-12T00:00:00\", \"actual\": 110.08, \"position\": 109.78, \"action\": \"SELL\", \"size\": \"Buy/Sell\"}, {\"Date\": \"2020-02-13T00:00:00\", \"actual\": 109.81, \"position\": 110.08, \"action\": \"BUY\", \"size\": \"Buy/Sell\"}, {\"Date\": \"2020-02-14T00:00:00\", \"actual\": 109.75, \"position\": 109.81, \"action\": \"SELL\", \"size\": \"Buy/Sell\"}, {\"Date\": \"2020-02-17T00:00:00\", \"actual\": 109.89, \"position\": 109.75, \"action\": \"HOLD\", \"size\": \"Buy/Sell\"}, {\"Date\": \"2020-02-18T00:00:00\", \"actual\": 109.88, \"position\": 109.89, \"action\": \"HOLD\", \"size\": \"Buy/Sell\"}, {\"Date\": \"2020-02-19T00:00:00\", \"actual\": 111.36, \"position\": 109.88, \"action\": \"HOLD\", \"size\": \"Buy/Sell\"}, {\"Date\": \"2020-02-20T00:00:00\", \"actual\": 112.12, \"position\": 111.36, \"action\": \"BUY\", \"size\": \"Buy/Sell\"}, {\"Date\": \"2020-02-21T00:00:00\", \"actual\": 111.58, \"position\": 112.12, \"action\": \"BUY\", \"size\": \"Buy/Sell\"}, {\"Date\": \"2020-02-24T00:00:00\", \"actual\": 110.72, \"position\": 111.58, \"action\": \"BUY\", \"size\": \"Buy/Sell\"}, {\"Date\": \"2020-02-25T00:00:00\", \"actual\": 110.2, \"position\": 110.72, \"action\": \"HOLD\", \"size\": \"Buy/Sell\"}, {\"Date\": \"2020-02-26T00:00:00\", \"actual\": 110.42, \"position\": 110.2, \"action\": \"HOLD\", \"size\": \"Buy/Sell\"}, {\"Date\": \"2020-02-27T00:00:00\", \"actual\": 109.59, \"position\": 110.42, \"action\": \"HOLD\", \"size\": \"Buy/Sell\"}, {\"Date\": \"2020-02-28T00:00:00\", \"actual\": 108.08, \"position\": 109.59, \"action\": \"SELL\", \"size\": \"Buy/Sell\"}, {\"Date\": \"2020-03-02T00:00:00\", \"actual\": 108.31, \"position\": 108.08, \"action\": \"BUY\", \"size\": \"Buy/Sell\"}, {\"Date\": \"2020-03-03T00:00:00\", \"actual\": 107.14, \"position\": 108.31, \"action\": \"BUY\", \"size\": \"Buy/Sell\"}, {\"Date\": \"2020-03-04T00:00:00\", \"actual\": 107.53, \"position\": 107.14, \"action\": \"HOLD\", \"size\": \"Buy/Sell\"}, {\"Date\": \"2020-03-05T00:00:00\", \"actual\": 106.17, \"position\": 107.53, \"action\": \"SELL\", \"size\": \"Buy/Sell\"}, {\"Date\": \"2020-03-06T00:00:00\", \"actual\": 105.31, \"position\": 106.17, \"action\": \"SELL\", \"size\": \"Buy/Sell\"}, {\"Date\": \"2020-03-09T00:00:00\", \"actual\": 102.36, \"position\": 105.31, \"action\": \"HOLD\", \"size\": \"Buy/Sell\"}, {\"Date\": \"2020-03-10T00:00:00\", \"actual\": 105.04, \"position\": 102.36, \"action\": \"BUY\", \"size\": \"Buy/Sell\"}, {\"Date\": \"2020-03-11T00:00:00\", \"actual\": 104.49, \"position\": 105.04, \"action\": \"HOLD\", \"size\": \"Buy/Sell\"}]}}, {\"mode\": \"vega-lite\"});\n",
       "</script>"
      ],
      "text/plain": [
       "alt.LayerChart(...)"
      ]
     },
     "execution_count": 19,
     "metadata": {},
     "output_type": "execute_result"
    }
   ],
   "source": [
    "chart = visualize(df, history, title=test_stock)\n",
    "chart"
   ]
  },
  {
   "cell_type": "code",
   "execution_count": 20,
   "metadata": {},
   "outputs": [],
   "source": [
    "df.to_csv(\"ddqn-USD_JPY.csv\")"
   ]
  }
 ],
 "metadata": {
  "kernelspec": {
   "display_name": "Python 3",
   "language": "python",
   "name": "python3"
  },
  "language_info": {
   "codemirror_mode": {
    "name": "ipython",
    "version": 3
   },
   "file_extension": ".py",
   "mimetype": "text/x-python",
   "name": "python",
   "nbconvert_exporter": "python",
   "pygments_lexer": "ipython3",
   "version": "3.6.10"
  }
 },
 "nbformat": 4,
 "nbformat_minor": 4
}
